{
 "cells": [
  {
   "cell_type": "code",
   "execution_count": 73,
   "id": "cf7b6b7e",
   "metadata": {
    "execution": {
     "iopub.execute_input": "2022-09-20T06:05:35.893330Z",
     "iopub.status.busy": "2022-09-20T06:05:35.892958Z",
     "iopub.status.idle": "2022-09-20T06:05:35.898155Z",
     "shell.execute_reply": "2022-09-20T06:05:35.897130Z",
     "shell.execute_reply.started": "2022-09-20T06:05:35.893300Z"
    },
    "papermill": {
     "duration": 4.71686,
     "end_time": "2022-09-20T05:38:02.695399",
     "exception": false,
     "start_time": "2022-09-20T05:37:57.978539",
     "status": "completed"
    },
    "tags": []
   },
   "outputs": [],
   "source": [
    "import tensorflow as tf\n",
    "# tf.__version__"
   ]
  },
  {
   "cell_type": "code",
   "execution_count": 74,
   "id": "f40c076f",
   "metadata": {
    "execution": {
     "iopub.execute_input": "2022-09-20T06:05:41.400805Z",
     "iopub.status.busy": "2022-09-20T06:05:41.399996Z",
     "iopub.status.idle": "2022-09-20T06:05:41.405745Z",
     "shell.execute_reply": "2022-09-20T06:05:41.404780Z",
     "shell.execute_reply.started": "2022-09-20T06:05:41.400771Z"
    },
    "papermill": {
     "duration": 0.015306,
     "end_time": "2022-09-20T05:38:02.719644",
     "exception": false,
     "start_time": "2022-09-20T05:38:02.704338",
     "status": "completed"
    },
    "tags": []
   },
   "outputs": [],
   "source": [
    "import zipfile,os\n",
    " \n",
    "base_dir = '../input/4-animal-classification/'\n",
    "train_dir = os.path.join(base_dir, 'train')"
   ]
  },
  {
   "cell_type": "code",
   "execution_count": 75,
   "id": "a0af17a8",
   "metadata": {
    "execution": {
     "iopub.execute_input": "2022-09-20T06:05:53.770092Z",
     "iopub.status.busy": "2022-09-20T06:05:53.769400Z",
     "iopub.status.idle": "2022-09-20T06:05:53.777535Z",
     "shell.execute_reply": "2022-09-20T06:05:53.776549Z",
     "shell.execute_reply.started": "2022-09-20T06:05:53.770056Z"
    },
    "papermill": {
     "duration": 0.018221,
     "end_time": "2022-09-20T05:38:02.744304",
     "exception": false,
     "start_time": "2022-09-20T05:38:02.726083",
     "status": "completed"
    },
    "tags": []
   },
   "outputs": [
    {
     "data": {
      "text/plain": [
       "['horse', 'dog', 'cat', 'deer']"
      ]
     },
     "execution_count": 75,
     "metadata": {},
     "output_type": "execute_result"
    }
   ],
   "source": [
    "os.listdir('../input/4-animal-classification/train')"
   ]
  },
  {
   "cell_type": "code",
   "execution_count": 76,
   "id": "e1f775f4",
   "metadata": {
    "execution": {
     "iopub.execute_input": "2022-09-20T06:05:55.855606Z",
     "iopub.status.busy": "2022-09-20T06:05:55.855200Z",
     "iopub.status.idle": "2022-09-20T06:05:56.073996Z",
     "shell.execute_reply": "2022-09-20T06:05:56.072958Z",
     "shell.execute_reply.started": "2022-09-20T06:05:55.855570Z"
    },
    "papermill": {
     "duration": 0.9937,
     "end_time": "2022-09-20T05:38:03.744467",
     "exception": false,
     "start_time": "2022-09-20T05:38:02.750767",
     "status": "completed"
    },
    "tags": []
   },
   "outputs": [
    {
     "name": "stdout",
     "output_type": "stream",
     "text": [
      "Found 2240 images belonging to 4 classes.\n",
      "Found 560 images belonging to 4 classes.\n"
     ]
    }
   ],
   "source": [
    "from tensorflow.keras.preprocessing.image import ImageDataGenerator\n",
    " \n",
    "image_datagen = ImageDataGenerator(\n",
    "#                     rescale=1./255,\n",
    "                    rotation_range=20,\n",
    "                    horizontal_flip=True,\n",
    "                    shear_range = 0.2,\n",
    "                    fill_mode = 'nearest',\n",
    "                    validation_split = 0.2,\n",
    "                    width_shift_range=0.1,\n",
    "                    height_shift_range=0.1,)\n",
    "\n",
    "# Rescale kalo resolusi gambar seragam\n",
    "# Ga perlu rescale kalo resolusi beda-beda\n",
    "\n",
    "train_generator = image_datagen.flow_from_directory(\n",
    "        train_dir,\n",
    "        subset='training',\n",
    "        target_size=(300, 300),\n",
    "        batch_size=32,\n",
    "        class_mode='categorical'\n",
    "        )\n",
    "\n",
    "validation_generator = image_datagen.flow_from_directory(\n",
    "        train_dir,\n",
    "        subset='validation',\n",
    "        target_size=(300, 300),\n",
    "        batch_size=32,\n",
    "        class_mode='categorical'\n",
    "        )"
   ]
  },
  {
   "cell_type": "code",
   "execution_count": 6,
   "id": "6dcd8297",
   "metadata": {
    "execution": {
     "iopub.execute_input": "2022-09-20T05:38:03.760028Z",
     "iopub.status.busy": "2022-09-20T05:38:03.759456Z",
     "iopub.status.idle": "2022-09-20T05:38:06.568546Z",
     "shell.execute_reply": "2022-09-20T05:38:06.565060Z"
    },
    "papermill": {
     "duration": 2.819156,
     "end_time": "2022-09-20T05:38:06.570960",
     "exception": false,
     "start_time": "2022-09-20T05:38:03.751804",
     "status": "completed"
    },
    "tags": []
   },
   "outputs": [
    {
     "name": "stderr",
     "output_type": "stream",
     "text": [
      "2022-09-20 05:38:03.862971: I tensorflow/stream_executor/cuda/cuda_gpu_executor.cc:937] successful NUMA node read from SysFS had negative value (-1), but there must be at least one NUMA node, so returning NUMA node zero\n",
      "\n",
      "2022-09-20 05:38:03.959174: I tensorflow/stream_executor/cuda/cuda_gpu_executor.cc:937] successful NUMA node read from SysFS had negative value (-1), but there must be at least one NUMA node, so returning NUMA node zero\n",
      "\n",
      "2022-09-20 05:38:03.959981: I tensorflow/stream_executor/cuda/cuda_gpu_executor.cc:937] successful NUMA node read from SysFS had negative value (-1), but there must be at least one NUMA node, so returning NUMA node zero\n",
      "\n",
      "2022-09-20 05:38:03.961594: I tensorflow/core/platform/cpu_feature_guard.cc:142] This TensorFlow binary is optimized with oneAPI Deep Neural Network Library (oneDNN) to use the following CPU instructions in performance-critical operations:  AVX2 AVX512F FMA\n",
      "\n",
      "To enable them in other operations, rebuild TensorFlow with the appropriate compiler flags.\n"
     ]
    },
    {
     "name": "stdout",
     "output_type": "stream",
     "text": [
      "Model: \"sequential\"\n",
      "\n",
      "_________________________________________________________________\n",
      "\n",
      "Layer (type)                 Output Shape              Param #   \n",
      "\n",
      "=================================================================\n",
      "\n",
      "conv2d (Conv2D)              (None, 222, 222, 64)      1792      \n",
      "\n",
      "_________________________________________________________________\n",
      "\n",
      "max_pooling2d (MaxPooling2D) (None, 111, 111, 64)      0         \n",
      "\n",
      "_________________________________________________________________\n",
      "\n",
      "conv2d_1 (Conv2D)            (None, 109, 109, 128)     73856     \n",
      "\n",
      "_________________________________________________________________\n",
      "\n",
      "max_pooling2d_1 (MaxPooling2 (None, 54, 54, 128)       0         \n",
      "\n",
      "_________________________________________________________________\n",
      "\n",
      "conv2d_2 (Conv2D)            (None, 52, 52, 256)       295168    \n",
      "\n",
      "_________________________________________________________________\n",
      "\n",
      "max_pooling2d_2 (MaxPooling2 (None, 26, 26, 256)       0         \n",
      "\n",
      "_________________________________________________________________\n",
      "\n",
      "conv2d_3 (Conv2D)            (None, 24, 24, 512)       1180160   \n",
      "\n",
      "_________________________________________________________________\n",
      "\n",
      "max_pooling2d_3 (MaxPooling2 (None, 12, 12, 512)       0         \n",
      "\n",
      "_________________________________________________________________\n",
      "\n",
      "conv2d_4 (Conv2D)            (None, 10, 10, 512)       2359808   \n",
      "\n",
      "_________________________________________________________________\n",
      "\n",
      "max_pooling2d_4 (MaxPooling2 (None, 5, 5, 512)         0         \n",
      "\n",
      "_________________________________________________________________\n",
      "\n",
      "global_average_pooling2d (Gl (None, 512)               0         \n",
      "\n",
      "_________________________________________________________________\n",
      "\n",
      "flatten (Flatten)            (None, 512)               0         \n",
      "\n",
      "_________________________________________________________________\n",
      "\n",
      "dense (Dense)                (None, 256)               131328    \n",
      "\n",
      "_________________________________________________________________\n",
      "\n",
      "dense_1 (Dense)              (None, 128)               32896     \n",
      "\n",
      "_________________________________________________________________\n",
      "\n",
      "dense_2 (Dense)              (None, 4)                 516       \n",
      "\n",
      "=================================================================\n",
      "\n",
      "Total params: 4,075,524\n",
      "\n",
      "Trainable params: 4,075,524\n",
      "\n",
      "Non-trainable params: 0\n",
      "\n",
      "_________________________________________________________________\n"
     ]
    },
    {
     "name": "stderr",
     "output_type": "stream",
     "text": [
      "2022-09-20 05:38:03.961892: I tensorflow/stream_executor/cuda/cuda_gpu_executor.cc:937] successful NUMA node read from SysFS had negative value (-1), but there must be at least one NUMA node, so returning NUMA node zero\n",
      "\n",
      "2022-09-20 05:38:03.962792: I tensorflow/stream_executor/cuda/cuda_gpu_executor.cc:937] successful NUMA node read from SysFS had negative value (-1), but there must be at least one NUMA node, so returning NUMA node zero\n",
      "\n",
      "2022-09-20 05:38:03.963668: I tensorflow/stream_executor/cuda/cuda_gpu_executor.cc:937] successful NUMA node read from SysFS had negative value (-1), but there must be at least one NUMA node, so returning NUMA node zero\n",
      "\n",
      "2022-09-20 05:38:06.114370: I tensorflow/stream_executor/cuda/cuda_gpu_executor.cc:937] successful NUMA node read from SysFS had negative value (-1), but there must be at least one NUMA node, so returning NUMA node zero\n",
      "\n",
      "2022-09-20 05:38:06.115229: I tensorflow/stream_executor/cuda/cuda_gpu_executor.cc:937] successful NUMA node read from SysFS had negative value (-1), but there must be at least one NUMA node, so returning NUMA node zero\n",
      "\n",
      "2022-09-20 05:38:06.115913: I tensorflow/stream_executor/cuda/cuda_gpu_executor.cc:937] successful NUMA node read from SysFS had negative value (-1), but there must be at least one NUMA node, so returning NUMA node zero\n",
      "\n",
      "2022-09-20 05:38:06.116497: I tensorflow/core/common_runtime/gpu/gpu_device.cc:1510] Created device /job:localhost/replica:0/task:0/device:GPU:0 with 15401 MB memory:  -> device: 0, name: Tesla P100-PCIE-16GB, pci bus id: 0000:00:04.0, compute capability: 6.0\n"
     ]
    }
   ],
   "source": [
    "model = tf.keras.models.Sequential([\n",
    "    # Input\n",
    "    tf.keras.layers.Conv2D(filters=64, kernel_size=(3,3), activation='relu', input_shape=(224, 224, 3)),\n",
    "    tf.keras.layers.MaxPooling2D(2, 2),\n",
    "\n",
    "    # Blok 1\n",
    "    tf.keras.layers.Conv2D(filters=128, kernel_size=(3,3), activation='relu'),\n",
    "    tf.keras.layers.MaxPooling2D(2,2),\n",
    "\n",
    "    # Blok 2\n",
    "    tf.keras.layers.Conv2D(filters=256, kernel_size=(3,3), activation='relu'),\n",
    "    tf.keras.layers.from tensorflow.keras.preprocessing.image import ImageDataGenerator\n",
    " \n",
    "image_datagen = ImageDataGenerator(\n",
    "#                     rescale=1./255,\n",
    "                    rotation_range=20,\n",
    "                    horizontal_flip=True,\n",
    "                    shear_range = 0.2,\n",
    "                    fill_mode = 'nearest',\n",
    "                    validation_split = 0.2,\n",
    "                    width_shift_range=0.1,\n",
    "                    height_shift_range=0.1,)\n",
    "\n",
    "# Rescale kalo resolusi gambar seragam\n",
    "# Ga perlu rescale kalo resolusi beda-beda\n",
    "\n",
    "train_generator = image_datagen.flow_from_directory(\n",
    "        train_dir,\n",
    "        subset='training',\n",
    "        target_size=(300, 300),\n",
    "        batch_size=32,\n",
    "        class_mode='categorical'\n",
    "        )\n",
    "\n",
    "validation_generator = image_datagen.flow_from_directory(\n",
    "        train_dir,\n",
    "        subset='validation',\n",
    "        target_size=(300, 300),\n",
    "        batch_size=32,\n",
    "        class_mode='categorical'\n",
    "        )MaxPooling2D(2,2),\n",
    "\n",
    "    # Blok 3\n",
    "    tf.keras.layers.Conv2D(filters=512, kernel_size=(3,3), activation='relu'),\n",
    "    tf.keras.layers.MaxPooling2D(2,2),\n",
    "\n",
    "    # Blok 3\n",
    "    tf.keras.layers.Conv2D(filters=512, kernel_size=(3,3), activation='relu'),\n",
    "    tf.keras.layers.MaxPooling2D(2,2),\n",
    "\n",
    "    tf.keras.layers.GlobalAveragePooling2D(),\n",
    "\n",
    "    #Flatten\n",
    "    tf.keras.layers.Flatten(),\n",
    "    \n",
    "    # Fully\n",
    "    tf.keras.layers.Dense(256, activation='relu'),\n",
    "    # tf.keras.layers.Dropout(0.5),\n",
    "    tf.keras.layers.Dense(128, activation='relu'),\n",
    "    \n",
    "    # 4 classes\n",
    "    tf.keras.layers.Dense(4, activation='softmax')\n",
    "])\n",
    "\n",
    "model.summary()"
   ]
  },
  {
   "cell_type": "code",
   "execution_count": 77,
   "id": "9100329a",
   "metadata": {
    "execution": {
     "iopub.execute_input": "2022-09-20T06:06:02.095240Z",
     "iopub.status.busy": "2022-09-20T06:06:02.094882Z",
     "iopub.status.idle": "2022-09-20T06:06:05.035979Z",
     "shell.execute_reply": "2022-09-20T06:06:05.034744Z",
     "shell.execute_reply.started": "2022-09-20T06:06:02.095211Z"
    },
    "papermill": {
     "duration": 3.373018,
     "end_time": "2022-09-20T05:38:09.951231",
     "exception": false,
     "start_time": "2022-09-20T05:38:06.578213",
     "status": "completed"
    },
    "tags": []
   },
   "outputs": [
    {
     "name": "stdout",
     "output_type": "stream",
     "text": [
      "Model: \"sequential_5\"\n",
      "_________________________________________________________________\n",
      "Layer (type)                 Output Shape              Param #   \n",
      "=================================================================\n",
      "efficientnetb1 (Functional)  (None, 8, 8, 1280)        6575239   \n",
      "_________________________________________________________________\n",
      "global_average_pooling2d_5 ( (None, 1280)              0         \n",
      "_________________________________________________________________\n",
      "flatten_5 (Flatten)          (None, 1280)              0         \n",
      "_________________________________________________________________\n",
      "dense_18 (Dense)             (None, 1280)              1639680   \n",
      "_________________________________________________________________\n",
      "dense_19 (Dense)             (None, 128)               163968    \n",
      "_________________________________________________________________\n",
      "dense_20 (Dense)             (None, 4)                 516       \n",
      "=================================================================\n",
      "Total params: 8,379,403\n",
      "Trainable params: 8,317,348\n",
      "Non-trainable params: 62,055\n",
      "_________________________________________________________________\n"
     ]
    }
   ],
   "source": [
    "from tensorflow.keras.layers import Input , Dense , Flatten , GlobalAveragePooling2D\n",
    "from tensorflow.keras.models import Sequential\n",
    "\n",
    "transfer = tf.keras.applications.efficientnet.EfficientNetB3(\n",
    "              input_shape=(300,300,3),\n",
    "              include_top=False,\n",
    "              weights='imagenet'\n",
    ")\n",
    "\n",
    "# Include Top\n",
    "# Kalo True -> Fully Connected Layer bawaan (Output Layer)\n",
    "# Kalo False -> Fully Connected Layer bisa di modifikasi (Output Layer)\n",
    "\n",
    "model = tf.keras.models.Sequential([\n",
    "    transfer,\n",
    "    tf.keras.layers.GlobalAveragePooling2D(),\n",
    "\n",
    "    #Flatten\n",
    "    tf.keras.layers.Flatten(),\n",
    "    \n",
    "    # Fully\n",
    "    tf.keras.layers.Dense(1280, activation='relu'),\n",
    "#     tf.keras.layers.Dense(512, activation='relu'),\n",
    "    # tf.keras.layers.Dense(256, activation='relu'),\n",
    "    # tf.keras.layers.Dropout(0.5),\n",
    "    tf.keras.layers.Dense(128, activation='relu'),\n",
    "    # tf.keras.layers.Dense(64, activation='relu'),\n",
    "#     tf.keras.layers.Dense(32, activation='relu'),\n",
    "    # tf.keras.layers.Dense(16, activation='relu'),\n",
    "#     tf.keras.layers.Dense(8, activation='relu'),\n",
    "    \n",
    "    # 4 classes\n",
    "    tf.keras.layers.Dense(4, activation='softmax')\n",
    "])\n",
    "\n",
    "model.summary()"
   ]
  },
  {
   "cell_type": "code",
   "execution_count": 78,
   "id": "b5af623a",
   "metadata": {
    "execution": {
     "iopub.execute_input": "2022-09-20T06:06:17.679273Z",
     "iopub.status.busy": "2022-09-20T06:06:17.678890Z",
     "iopub.status.idle": "2022-09-20T06:06:17.703012Z",
     "shell.execute_reply": "2022-09-20T06:06:17.702004Z",
     "shell.execute_reply.started": "2022-09-20T06:06:17.679239Z"
    },
    "papermill": {
     "duration": 0.02685,
     "end_time": "2022-09-20T05:38:09.985954",
     "exception": false,
     "start_time": "2022-09-20T05:38:09.959104",
     "status": "completed"
    },
    "tags": []
   },
   "outputs": [],
   "source": [
    "# compile model dengan 'adam' optimizer loss function 'categorical_crossentropy' \n",
    "model.compile(optimizer=tf.keras.optimizers.SGD(learning_rate=0.0010, momentum=0.9), \n",
    "            loss='categorical_crossentropy',\n",
    "            metrics = ['accuracy'])"
   ]
  },
  {
   "cell_type": "code",
   "execution_count": 79,
   "id": "c562cc49",
   "metadata": {
    "execution": {
     "iopub.execute_input": "2022-09-20T06:06:20.751537Z",
     "iopub.status.busy": "2022-09-20T06:06:20.751116Z",
     "iopub.status.idle": "2022-09-20T06:06:20.759250Z",
     "shell.execute_reply": "2022-09-20T06:06:20.758175Z",
     "shell.execute_reply.started": "2022-09-20T06:06:20.751500Z"
    },
    "papermill": {
     "duration": 0.018756,
     "end_time": "2022-09-20T05:38:10.012004",
     "exception": false,
     "start_time": "2022-09-20T05:38:09.993248",
     "status": "completed"
    },
    "tags": []
   },
   "outputs": [],
   "source": [
    "from tensorflow.keras.callbacks import EarlyStopping, ModelCheckpoint\n",
    "\n",
    "early = EarlyStopping(monitor='val_loss', min_delta=0, patience=10, verbose=1, mode='auto')\n",
    "\n",
    "checkpoint = ModelCheckpoint(\"checkpoints/best.h5\", monitor='val_accuracy', verbose=1, save_best_only=True)"
   ]
  },
  {
   "cell_type": "code",
   "execution_count": 80,
   "id": "f505e496",
   "metadata": {
    "execution": {
     "iopub.execute_input": "2022-09-20T06:06:59.878063Z",
     "iopub.status.busy": "2022-09-20T06:06:59.877666Z",
     "iopub.status.idle": "2022-09-20T06:17:41.519207Z",
     "shell.execute_reply": "2022-09-20T06:17:41.518176Z",
     "shell.execute_reply.started": "2022-09-20T06:06:59.878031Z"
    },
    "papermill": {
     "duration": 608.755545,
     "end_time": "2022-09-20T05:48:18.774659",
     "exception": false,
     "start_time": "2022-09-20T05:38:10.019114",
     "status": "completed"
    },
    "tags": []
   },
   "outputs": [
    {
     "name": "stdout",
     "output_type": "stream",
     "text": [
      "Epoch 1/10\n",
      "70/70 - 73s - loss: 1.2322 - accuracy: 0.5348 - val_loss: 0.8902 - val_accuracy: 0.8661\n",
      "\n",
      "Epoch 00001: val_accuracy improved from -inf to 0.86607, saving model to checkpoints/best.h5\n"
     ]
    },
    {
     "name": "stderr",
     "output_type": "stream",
     "text": [
      "/opt/conda/lib/python3.7/site-packages/keras/utils/generic_utils.py:497: CustomMaskWarning: Custom mask layers require a config and must override get_config. When loading, the custom mask layer must be passed to the custom_objects argument.\n",
      "  category=CustomMaskWarning)\n"
     ]
    },
    {
     "name": "stdout",
     "output_type": "stream",
     "text": [
      "Epoch 2/10\n",
      "70/70 - 61s - loss: 0.7444 - accuracy: 0.8455 - val_loss: 0.4380 - val_accuracy: 0.9179\n",
      "\n",
      "Epoch 00002: val_accuracy improved from 0.86607 to 0.91786, saving model to checkpoints/best.h5\n",
      "Epoch 3/10\n",
      "70/70 - 60s - loss: 0.4189 - accuracy: 0.8991 - val_loss: 0.2567 - val_accuracy: 0.9446\n",
      "\n",
      "Epoch 00003: val_accuracy improved from 0.91786 to 0.94464, saving model to checkpoints/best.h5\n",
      "Epoch 4/10\n",
      "70/70 - 60s - loss: 0.2737 - accuracy: 0.9246 - val_loss: 0.2036 - val_accuracy: 0.9482\n",
      "\n",
      "Epoch 00004: val_accuracy improved from 0.94464 to 0.94821, saving model to checkpoints/best.h5\n",
      "Epoch 5/10\n",
      "70/70 - 60s - loss: 0.2017 - accuracy: 0.9455 - val_loss: 0.1760 - val_accuracy: 0.9518\n",
      "\n",
      "Epoch 00005: val_accuracy improved from 0.94821 to 0.95179, saving model to checkpoints/best.h5\n",
      "Epoch 6/10\n",
      "70/70 - 60s - loss: 0.1627 - accuracy: 0.9504 - val_loss: 0.1684 - val_accuracy: 0.9482\n",
      "\n",
      "Epoch 00006: val_accuracy did not improve from 0.95179\n",
      "Epoch 7/10\n",
      "70/70 - 60s - loss: 0.1371 - accuracy: 0.9576 - val_loss: 0.1481 - val_accuracy: 0.9571\n",
      "\n",
      "Epoch 00007: val_accuracy improved from 0.95179 to 0.95714, saving model to checkpoints/best.h5\n",
      "Epoch 8/10\n",
      "70/70 - 61s - loss: 0.1216 - accuracy: 0.9612 - val_loss: 0.1390 - val_accuracy: 0.9589\n",
      "\n",
      "Epoch 00008: val_accuracy improved from 0.95714 to 0.95893, saving model to checkpoints/best.h5\n",
      "Epoch 9/10\n",
      "70/70 - 61s - loss: 0.1163 - accuracy: 0.9647 - val_loss: 0.1347 - val_accuracy: 0.9554\n",
      "\n",
      "Epoch 00009: val_accuracy did not improve from 0.95893\n",
      "Epoch 10/10\n",
      "70/70 - 61s - loss: 0.0980 - accuracy: 0.9688 - val_loss: 0.1273 - val_accuracy: 0.9554\n",
      "\n",
      "Epoch 00010: val_accuracy did not improve from 0.95893\n"
     ]
    }
   ],
   "source": [
    "# latih model dengan model.fit \n",
    "history = model.fit(\n",
    "      train_generator,                    \n",
    "      epochs=20,                              # tambahkan epochs jika akurasi model belum optimal\n",
    "      validation_data=validation_generator,   # menampilkan akurasi pengujian data validasi\n",
    "      callbacks = [early, checkpoint],\n",
    "      verbose=2\n",
    ")"
   ]
  },
  {
   "cell_type": "code",
   "execution_count": 81,
   "id": "06523cdd",
   "metadata": {
    "execution": {
     "iopub.execute_input": "2022-09-20T06:17:51.088897Z",
     "iopub.status.busy": "2022-09-20T06:17:51.088222Z",
     "iopub.status.idle": "2022-09-20T06:18:12.179145Z",
     "shell.execute_reply": "2022-09-20T06:18:12.177987Z",
     "shell.execute_reply.started": "2022-09-20T06:17:51.088862Z"
    },
    "papermill": {
     "duration": 11.063855,
     "end_time": "2022-09-20T05:48:29.849294",
     "exception": false,
     "start_time": "2022-09-20T05:48:18.785439",
     "status": "completed"
    },
    "tags": []
   },
   "outputs": [
    {
     "name": "stdout",
     "output_type": "stream",
     "text": [
      "18/18 [==============================] - 10s 569ms/step - loss: 0.1275 - accuracy: 0.9607\n",
      "test loss 0.12751710414886475, test accuracy 0.9607142806053162\n"
     ]
    }
   ],
   "source": [
    "results = model.evaluate(validation_generator)\n",
    "print(f\"test loss {results[0]}, test accuracy {results[1]}\")"
   ]
  },
  {
   "cell_type": "code",
   "execution_count": 88,
   "id": "e260e466",
   "metadata": {
    "execution": {
     "iopub.execute_input": "2022-09-20T06:26:42.963128Z",
     "iopub.status.busy": "2022-09-20T06:26:42.962752Z",
     "iopub.status.idle": "2022-09-20T06:26:43.281886Z",
     "shell.execute_reply": "2022-09-20T06:26:43.280874Z",
     "shell.execute_reply.started": "2022-09-20T06:26:42.963096Z"
    },
    "papermill": {
     "duration": 0.318417,
     "end_time": "2022-09-20T05:48:30.178534",
     "exception": false,
     "start_time": "2022-09-20T05:48:29.860117",
     "status": "completed"
    },
    "tags": []
   },
   "outputs": [
    {
     "data": {
      "image/png": "[encoded data removed]",
      "text/plain": [
       "<Figure size 1152x360 with 2 Axes>"
      ]
     },
     "metadata": {
      "needs_background": "light"
     },
     "output_type": "display_data"
    }
   ],
   "source": [
    "import matplotlib.pyplot as plt\n",
    "\n",
    "acc = history.history['accuracy']\n",
    "val_acc = history.history['val_accuracy']\n",
    "\n",
    "loss = history.history['loss']\n",
    "val_loss = history.history['val_loss']\n",
    "\n",
    "plt.figure(figsize=(16, 5))\n",
    "plt.subplot(2, 1, 1)\n",
    "plt.plot(acc, label='Training Accuracy')\n",
    "plt.plot(val_acc, label='Validation Accuracy')\n",
    "plt.legend(loc='lower right')\n",
    "plt.ylabel('Accuracy')\n",
    "plt.ylim([min(plt.ylim()),1])\n",
    "plt.title('Training and Validation Accuracy')\n",
    "\n",
    "plt.subplot(2, 1, 2)\n",
    "plt.plot(loss, label='Training Loss')\n",
    "plt.plot(val_loss, label='Validation Loss')\n",
    "plt.legend(loc='upper right')\n",
    "plt.ylabel('Cross Entropy')\n",
    "plt.ylim([0,1.0])\n",
    "plt.title('Training and Validation Loss')\n",
    "plt.xlabel('epoch')\n",
    "plt.show()"
   ]
  },
  {
   "cell_type": "code",
   "execution_count": 98,
   "id": "aeb56f36",
   "metadata": {
    "execution": {
     "iopub.execute_input": "2022-09-20T06:33:28.836486Z",
     "iopub.status.busy": "2022-09-20T06:33:28.836104Z",
     "iopub.status.idle": "2022-09-20T06:33:28.945617Z",
     "shell.execute_reply": "2022-09-20T06:33:28.944528Z",
     "shell.execute_reply.started": "2022-09-20T06:33:28.836455Z"
    },
    "papermill": {
     "duration": 0.010238,
     "end_time": "2022-09-20T05:48:30.199260",
     "exception": false,
     "start_time": "2022-09-20T05:48:30.189022",
     "status": "completed"
    },
    "tags": []
   },
   "outputs": [
    {
     "name": "stdout",
     "output_type": "stream",
     "text": [
      "Found 729 images belonging to 1 classes.\n"
     ]
    }
   ],
   "source": [
    "test_path = '../input/4-animal-classification/test/test'\n",
    "test_gen = image_datagen.flow_from_directory(    \n",
    "    directory=test_path,\n",
    "    target_size=(240, 240),\n",
    "    batch_size=32,\n",
    "    classes=['.'],\n",
    "    shuffle=False,\n",
    ")"
   ]
  },
  {
   "cell_type": "code",
   "execution_count": 99,
   "id": "4fbbff71",
   "metadata": {
    "execution": {
     "iopub.execute_input": "2022-09-20T06:33:31.002121Z",
     "iopub.status.busy": "2022-09-20T06:33:31.001724Z",
     "iopub.status.idle": "2022-09-20T06:33:31.007180Z",
     "shell.execute_reply": "2022-09-20T06:33:31.005893Z",
     "shell.execute_reply.started": "2022-09-20T06:33:31.002088Z"
    }
   },
   "outputs": [],
   "source": [
    "from PIL import Image\n",
    "predict = []"
   ]
  },
  {
   "cell_type": "code",
   "execution_count": 100,
   "id": "8f49104e",
   "metadata": {
    "execution": {
     "iopub.execute_input": "2022-09-20T06:33:52.551116Z",
     "iopub.status.busy": "2022-09-20T06:33:52.550730Z",
     "iopub.status.idle": "2022-09-20T06:34:37.216643Z",
     "shell.execute_reply": "2022-09-20T06:34:37.215678Z",
     "shell.execute_reply.started": "2022-09-20T06:33:52.551084Z"
    }
   },
   "outputs": [
    {
     "name": "stdout",
     "output_type": "stream",
     "text": [
      "100 Predicted\n",
      "200 Predicted\n",
      "300 Predicted\n",
      "400 Predicted\n",
      "500 Predicted\n",
      "600 Predicted\n",
      "700 Predicted\n"
     ]
    }
   ],
   "source": [
    "for i in range(1,730):\n",
    "    img = Image.open('../input/4-animal-classification/test/test/'+str(i)+'.jpg')\n",
    "    img = img.resize((240,240))\n",
    "    c_predict = model.predict(np.asarray(img).reshape(-1,240,240,3))\n",
    "    predict.append(c_predict)\n",
    "    if(i % 100 == 0):\n",
    "        print(i, \"Predicted\")"
   ]
  },
  {
   "cell_type": "code",
   "execution_count": 102,
   "id": "09dd44a8",
   "metadata": {
    "execution": {
     "iopub.execute_input": "2022-09-20T06:34:56.070018Z",
     "iopub.status.busy": "2022-09-20T06:34:56.069615Z",
     "iopub.status.idle": "2022-09-20T06:34:56.086281Z",
     "shell.execute_reply": "2022-09-20T06:34:56.085279Z",
     "shell.execute_reply.started": "2022-09-20T06:34:56.069985Z"
    }
   },
   "outputs": [
    {
     "data": {
      "text/plain": [
       "2    236\n",
       "0    193\n",
       "3    171\n",
       "1    129\n",
       "Name: Label, dtype: int64"
      ]
     },
     "execution_count": 102,
     "metadata": {},
     "output_type": "execute_result"
    }
   ],
   "source": [
    "predictions = np.argmax(predict,axis=2)\n",
    "submission_file = pd.read_csv(\"../input/4-animal-classification/Sample_submission.csv\")\n",
    "submission_file['Label'] = predictions\n",
    "submission_file.to_csv('submission.csv', index=False)\n",
    "submission_file['Label'].value_counts()"
   ]
  },
  {
   "cell_type": "code",
   "execution_count": 103,
   "id": "aa497c1f",
   "metadata": {
    "execution": {
     "iopub.execute_input": "2022-09-20T06:34:57.845196Z",
     "iopub.status.busy": "2022-09-20T06:34:57.844833Z",
     "iopub.status.idle": "2022-09-20T06:34:57.856408Z",
     "shell.execute_reply": "2022-09-20T06:34:57.855353Z",
     "shell.execute_reply.started": "2022-09-20T06:34:57.845166Z"
    }
   },
   "outputs": [
    {
     "data": {
      "text/html": [
       "<div>\n",
       "<style scoped>\n",
       "    .dataframe tbody tr th:only-of-type {\n",
       "        vertical-align: middle;\n",
       "    }\n",
       "\n",
       "    .dataframe tbody tr th {\n",
       "        vertical-align: top;\n",
       "    }\n",
       "\n",
       "    .dataframe thead th {\n",
       "        text-align: right;\n",
       "    }\n",
       "</style>\n",
       "<table border=\"1\" class=\"dataframe\">\n",
       "  <thead>\n",
       "    <tr style=\"text-align: right;\">\n",
       "      <th></th>\n",
       "      <th>ID</th>\n",
       "      <th>Label</th>\n",
       "    </tr>\n",
       "  </thead>\n",
       "  <tbody>\n",
       "    <tr>\n",
       "      <th>0</th>\n",
       "      <td>1</td>\n",
       "      <td>1</td>\n",
       "    </tr>\n",
       "    <tr>\n",
       "      <th>1</th>\n",
       "      <td>2</td>\n",
       "      <td>0</td>\n",
       "    </tr>\n",
       "    <tr>\n",
       "      <th>2</th>\n",
       "      <td>3</td>\n",
       "      <td>2</td>\n",
       "    </tr>\n",
       "    <tr>\n",
       "      <th>3</th>\n",
       "      <td>4</td>\n",
       "      <td>3</td>\n",
       "    </tr>\n",
       "    <tr>\n",
       "      <th>4</th>\n",
       "      <td>5</td>\n",
       "      <td>2</td>\n",
       "    </tr>\n",
       "    <tr>\n",
       "      <th>...</th>\n",
       "      <td>...</td>\n",
       "      <td>...</td>\n",
       "    </tr>\n",
       "    <tr>\n",
       "      <th>724</th>\n",
       "      <td>725</td>\n",
       "      <td>1</td>\n",
       "    </tr>\n",
       "    <tr>\n",
       "      <th>725</th>\n",
       "      <td>726</td>\n",
       "      <td>2</td>\n",
       "    </tr>\n",
       "    <tr>\n",
       "      <th>726</th>\n",
       "      <td>727</td>\n",
       "      <td>2</td>\n",
       "    </tr>\n",
       "    <tr>\n",
       "      <th>727</th>\n",
       "      <td>728</td>\n",
       "      <td>2</td>\n",
       "    </tr>\n",
       "    <tr>\n",
       "      <th>728</th>\n",
       "      <td>729</td>\n",
       "      <td>1</td>\n",
       "    </tr>\n",
       "  </tbody>\n",
       "</table>\n",
       "<p>729 rows × 2 columns</p>\n",
       "</div>"
      ],
      "text/plain": [
       "      ID  Label\n",
       "0      1      1\n",
       "1      2      0\n",
       "2      3      2\n",
       "3      4      3\n",
       "4      5      2\n",
       "..   ...    ...\n",
       "724  725      1\n",
       "725  726      2\n",
       "726  727      2\n",
       "727  728      2\n",
       "728  729      1\n",
       "\n",
       "[729 rows x 2 columns]"
      ]
     },
     "execution_count": 103,
     "metadata": {},
     "output_type": "execute_result"
    }
   ],
   "source": [
    "submission_file"
   ]
  }
 ],
 "metadata": {
  "kernelspec": {
   "display_name": "Python 3 (ipykernel)",
   "language": "python",
   "name": "python3"
  },
  "language_info": {
   "codemirror_mode": {
    "name": "ipython",
    "version": 3
   },
   "file_extension": ".py",
   "mimetype": "text/x-python",
   "name": "python",
   "nbconvert_exporter": "python",
   "pygments_lexer": "ipython3",
   "version": "3.9.12"
  },
  "papermill": {
   "default_parameters": {},
   "duration": 643.524873,
   "end_time": "2022-09-20T05:48:33.392361",
   "environment_variables": {},
   "exception": null,
   "input_path": "__notebook__.ipynb",
   "output_path": "__notebook__.ipynb",
   "parameters": {},
   "start_time": "2022-09-20T05:37:49.867488",
   "version": "2.3.4"
  },
  "varInspector": {
   "cols": {
    "lenName": 16,
    "lenType": 16,
    "lenVar": 40
   },
   "kernels_config": {
    "python": {
     "delete_cmd_postfix": "",
     "delete_cmd_prefix": "del ",
     "library": "var_list.py",
     "varRefreshCmd": "print(var_dic_list())"
    },
    "r": {
     "delete_cmd_postfix": ") ",
     "delete_cmd_prefix": "rm(",
     "library": "var_list.r",
     "varRefreshCmd": "cat(var_dic_list()) "
    }
   },
   "types_to_exclude": [
    "module",
    "function",
    "builtin_function_or_method",
    "instance",
    "_Feature"
   ],
   "window_display": false
  }
 },
 "nbformat": 4,
 "nbformat_minor": 5
}
